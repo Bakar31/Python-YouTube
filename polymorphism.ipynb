{
 "cells": [
  {
   "cell_type": "code",
   "execution_count": 1,
   "metadata": {},
   "outputs": [],
   "source": [
    "class Document:\n",
    "    def __init__(self, name):\n",
    "        self.name = name\n",
    "    \n",
    "    def show(self):\n",
    "        raise NotImplementedError(\"Subsclass must implement abstruct method\")"
   ]
  },
  {
   "cell_type": "code",
   "execution_count": 4,
   "metadata": {},
   "outputs": [],
   "source": [
    "class Pdf(Document):\n",
    "    \n",
    "    def show(self):\n",
    "        print('Opening pdf file...')"
   ]
  },
  {
   "cell_type": "code",
   "execution_count": 5,
   "metadata": {},
   "outputs": [],
   "source": [
    "class Excel(Document):\n",
    "    \n",
    "    def show(self):\n",
    "        print('Opening excel file...')"
   ]
  },
  {
   "cell_type": "code",
   "execution_count": 6,
   "metadata": {},
   "outputs": [],
   "source": [
    "class Word(Document):\n",
    "    \n",
    "    def show(self):\n",
    "        print('Opening word file...')"
   ]
  },
  {
   "cell_type": "code",
   "execution_count": 7,
   "metadata": {},
   "outputs": [],
   "source": [
    "pdf_file = Pdf('pdf_file')\n",
    "excel_file = Excel('excel_file')\n",
    "word_file = Word('word_file')"
   ]
  },
  {
   "cell_type": "code",
   "execution_count": 9,
   "metadata": {},
   "outputs": [
    {
     "name": "stdout",
     "output_type": "stream",
     "text": [
      "Opening pdf file\n",
      "Opening excel file...\n",
      "Opening word file...\n"
     ]
    }
   ],
   "source": [
    "for file in [pdf_file, excel_file, word_file]:\n",
    "    file.show()"
   ]
  },
  {
   "cell_type": "code",
   "execution_count": 8,
   "metadata": {},
   "outputs": [
    {
     "name": "stdout",
     "output_type": "stream",
     "text": [
      "<class '__main__.Pdf'>\n",
      "<class '__main__.Excel'>\n",
      "<class '__main__.Word'>\n"
     ]
    }
   ],
   "source": [
    "for file in [pdf_file, excel_file, word_file]:\n",
    "    print(type(file))"
   ]
  }
 ],
 "metadata": {
  "kernelspec": {
   "display_name": "Python 3",
   "language": "python",
   "name": "python3"
  },
  "language_info": {
   "codemirror_mode": {
    "name": "ipython",
    "version": 3
   },
   "file_extension": ".py",
   "mimetype": "text/x-python",
   "name": "python",
   "nbconvert_exporter": "python",
   "pygments_lexer": "ipython3",
   "version": "3.7.6"
  }
 },
 "nbformat": 4,
 "nbformat_minor": 4
}
