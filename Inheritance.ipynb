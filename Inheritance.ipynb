{
 "cells": [
  {
   "cell_type": "code",
   "execution_count": 12,
   "metadata": {},
   "outputs": [],
   "source": [
    "class Person():\n",
    "    def __init__(self, name, age):\n",
    "        self.name = name\n",
    "        self. age = age\n",
    "        \n",
    "        print('This is from parent/base class')\n",
    "        print(f\"I am {name} and I am {age} years old.\")\n",
    "        \n",
    "    def fav_player(self):\n",
    "        print('Cristiano is my favourite player.')"
   ]
  },
  {
   "cell_type": "code",
   "execution_count": 13,
   "metadata": {},
   "outputs": [
    {
     "name": "stdout",
     "output_type": "stream",
     "text": [
      "This is from parent/base class\n",
      "I am Abu Bakar and I am 20 years old.\n"
     ]
    }
   ],
   "source": [
    "person1 = Person('Abu Bakar', 20)"
   ]
  },
  {
   "cell_type": "code",
   "execution_count": 20,
   "metadata": {},
   "outputs": [],
   "source": [
    "class Student(Person):\n",
    "    def __init__(self, name, age):\n",
    "        Person.__init__(self, name, age)\n",
    "        \n",
    "        print('This is from child class')\n",
    "        \n",
    "    def fav_player(self):\n",
    "        print('Messi is my favourite player.')"
   ]
  },
  {
   "cell_type": "code",
   "execution_count": 21,
   "metadata": {},
   "outputs": [
    {
     "name": "stdout",
     "output_type": "stream",
     "text": [
      "This is from parent/base class\n",
      "I am Abdullah and I am 30 years old.\n",
      "This is from child class\n"
     ]
    }
   ],
   "source": [
    "student1 = Student('Abdullah', 30)"
   ]
  },
  {
   "cell_type": "code",
   "execution_count": 22,
   "metadata": {},
   "outputs": [
    {
     "name": "stdout",
     "output_type": "stream",
     "text": [
      "Messi is my favourite player.\n"
     ]
    }
   ],
   "source": [
    "student1.fav_player()"
   ]
  },
  {
   "cell_type": "code",
   "execution_count": 23,
   "metadata": {},
   "outputs": [
    {
     "name": "stdout",
     "output_type": "stream",
     "text": [
      "Cristiano is my favourite player.\n"
     ]
    }
   ],
   "source": [
    "person1.fav_player()"
   ]
  },
  {
   "cell_type": "code",
   "execution_count": null,
   "metadata": {},
   "outputs": [],
   "source": []
  }
 ],
 "metadata": {
  "kernelspec": {
   "display_name": "Python 3",
   "language": "python",
   "name": "python3"
  },
  "language_info": {
   "codemirror_mode": {
    "name": "ipython",
    "version": 3
   },
   "file_extension": ".py",
   "mimetype": "text/x-python",
   "name": "python",
   "nbconvert_exporter": "python",
   "pygments_lexer": "ipython3",
   "version": "3.7.6"
  }
 },
 "nbformat": 4,
 "nbformat_minor": 4
}
